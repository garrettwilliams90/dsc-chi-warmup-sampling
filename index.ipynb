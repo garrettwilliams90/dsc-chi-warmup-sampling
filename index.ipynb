{
 "cells": [
  {
   "cell_type": "markdown",
   "metadata": {},
   "source": [
    "# Central Limit Theorem and Sampling"
   ]
  },
  {
   "cell_type": "markdown",
   "metadata": {},
   "source": [
    "Two great tastes that taste great together"
   ]
  },
  {
   "cell_type": "markdown",
   "metadata": {},
   "source": [
    "## Conceptual Writing \n",
    "\n",
    "![](viz/writing.gif)"
   ]
  },
  {
   "cell_type": "markdown",
   "metadata": {},
   "source": [
    "#### What is the Central Limit Theorem, and how does it enable us to calculate things about statistics?"
   ]
  },
  {
   "cell_type": "code",
   "execution_count": null,
   "metadata": {},
   "outputs": [],
   "source": [
    "'''\n",
    "Your answer here\n",
    "'''"
   ]
  },
  {
   "cell_type": "markdown",
   "metadata": {},
   "source": [
    "## A spot of coding, eh\n",
    "\n",
    "![](viz/british.gif)"
   ]
  },
  {
   "cell_type": "code",
   "execution_count": 1,
   "metadata": {},
   "outputs": [],
   "source": [
    "#Run this cell without changes\n",
    "\n",
    "#data manip\n",
    "import pandas as pd\n",
    "import numpy as np\n",
    "\n",
    "#viz\n",
    "import matplotlib.pyplot as plt\n",
    "\n",
    "#render matplotlib in jl\n",
    "%matplotlib inline\n",
    "\n",
    "#tests\n",
    "from test_background import pkl_dump, test_obj_dict, run_test_dict, run_test"
   ]
  },
  {
   "cell_type": "markdown",
   "metadata": {},
   "source": [
    "### Import `data.csv` from the `data` folder\n"
   ]
  },
  {
   "cell_type": "code",
   "execution_count": 2,
   "metadata": {},
   "outputs": [],
   "source": [
    "# your code here"
   ]
  },
  {
   "cell_type": "markdown",
   "metadata": {},
   "source": [
    "### Creating a distrbution of means from multiple samples\n",
    "\n",
    "- Draw 10 random samples from the data of size 250, and for each sample, calculate the mean `hourly_rate`\n",
    "    - use a list comprehension (the start of the code is provided for\n",
    "    you)\n",
    "    - use random_state=`trial` so that we all generate the same samples\n",
    "      - (why do we assign random_state to a dynamic value?)\n",
    "    \n",
    "\n",
    "- Plot a histogram of the 25 means (does this look like any distribution you've seen?)\n",
    "  - don't forget titles and labels"
   ]
  },
  {
   "cell_type": "code",
   "execution_count": 14,
   "metadata": {},
   "outputs": [],
   "source": [
    "#calculate the 10 means of `hourly_rate` from the 25 samples \n",
    "#by filling in the code below\n",
    "\n",
    "hourly_rate_sample_means = [\n",
    "    insert__code__here\n",
    "    ['hourly_rate']\n",
    "    insert__code__here\n",
    "    for trial \n",
    "    in range(0,10)\n",
    "]"
   ]
  },
  {
   "cell_type": "code",
   "execution_count": 13,
   "metadata": {},
   "outputs": [],
   "source": [
    "#run this cell to test!\n",
    "\n",
    "run_test(hourly_rate_sample_means, 'hourly_rate_sample_means')"
   ]
  },
  {
   "cell_type": "code",
   "execution_count": 8,
   "metadata": {},
   "outputs": [],
   "source": [
    "#plot your histogram here\n",
    "\n",
    "#no help this time!"
   ]
  },
  {
   "cell_type": "markdown",
   "metadata": {},
   "source": [
    "## Let's do the same thing, but for 30 samples\n",
    "\n",
    "### Under the Don't Repeat Yourself principle, let's create some functions instead of copying and pasting\n",
    "\n",
    "#### First, a function to calculate a list of means from samples\n",
    "\n",
    "Fill in the code below to create a function that:\n",
    "- takes samples from the imported data\n",
    "- where the size of the sample is a parameter\n",
    "- and the number of samples is a parameter\n",
    "- and `random_state` for each sample is the sample number\n",
    "  - so for the first sample `random_state` is 1, for the second sample `random_state` is 2, etc.\n",
    "\n",
    "Then, use the function to assign a list of the means of 30 samples with 250 observations in each sample to the variable `means_30`\n",
    "\n",
    "*Hint: don't get confused by a parameter of a population and the parameter of a function!*"
   ]
  },
  {
   "cell_type": "code",
   "execution_count": null,
   "metadata": {},
   "outputs": [],
   "source": [
    "def sample_and_mean(#your code here):\n",
    "    '''\n",
    "    takes samples of df and returns list of means of those samples\n",
    "    \n",
    "    Parameters:\n",
    "        sample_size: size of samples to take (int)\n",
    "        \n",
    "        sample_number: number of samples to take (int)\n",
    "        \n",
    "    output:\n",
    "        list of sample means\n",
    "    '''\n",
    "    \n",
    "    means = [\n",
    "    #your code here\n",
    "    ['hourly_rate']\n",
    "    #your code here\n",
    "    for trial \n",
    "    #your code here\n",
    "    ]\n",
    "    \n",
    "    return means\n",
    "\n",
    "means_30 = #your code here"
   ]
  },
  {
   "cell_type": "code",
   "execution_count": 12,
   "metadata": {},
   "outputs": [],
   "source": [
    "#run this cell to test!\n",
    "\n",
    "run_test(means_30, 'means_30')"
   ]
  },
  {
   "cell_type": "markdown",
   "metadata": {},
   "source": [
    "#### Next, a function to plot the histograms of that list of sample means\n",
    "\n",
    "We'll use the previous function in this histogram function!\n",
    "\n",
    "Fill in the code below to create a function that:\n",
    "\n",
    "- Calls sample_and_mean to generate the data to plot a histogram\n",
    "\n",
    "- Plots the histogram of the data generated by sample_and_mean\n",
    "  - Include dynamic titles based on how many samples there are and how many observations in each sample!\n",
    "  \n",
    "Then, call the function to create a histogram of the means of 30 samples with 250 observations each"
   ]
  },
  {
   "cell_type": "code",
   "execution_count": null,
   "metadata": {},
   "outputs": [],
   "source": [
    "def sample_and_hist(#your code here):\n",
    "    \n",
    "    '''\n",
    "    samples df multiple times\n",
    "    \n",
    "    finds the mean of `hourly_rate` for each sample\n",
    "    \n",
    "    creates a histogram of the results\n",
    "    \n",
    "    Parameters:\n",
    "        sample_size: size of samples to take (int)\n",
    "        \n",
    "        sample_number: number of samples to take (int)  \n",
    "        \n",
    "    output:\n",
    "        prints a histogram of means of the samples\n",
    "    '''\n",
    " \n",
    "    means = #your code here\n",
    "\n",
    "    fig, ax = __insert__code__here\n",
    "    \n",
    "    ax.__insert__code__here\n",
    "    ax.__insert__code__here\n",
    "    ax.__insert__code__here\n",
    "    ax.__insert__code__here\n",
    "    \n",
    "    plt.show()\n",
    "    \n",
    "sample_and_hist(#your code here)"
   ]
  },
  {
   "cell_type": "markdown",
   "metadata": {},
   "source": [
    "### Now that we have this function let's go \n",
    "\n",
    "![](viz/ape.gif)"
   ]
  },
  {
   "cell_type": "markdown",
   "metadata": {},
   "source": [
    "#### Generate three histograms of the means of `hourly_rate` with:\n",
    "- #### 50, 500, and 5000 samples\n",
    "- #### 250 observations in each sample\n",
    "\n",
    "What do you notice?"
   ]
  },
  {
   "cell_type": "code",
   "execution_count": null,
   "metadata": {},
   "outputs": [],
   "source": [
    "#your code here"
   ]
  },
  {
   "cell_type": "markdown",
   "metadata": {},
   "source": [
    "#### Generate three histograms of the means of `hourly_rate` with:\n",
    "- #### 500 samples each \n",
    "- #### 50, 500, and 5000 observations in each sample, respectively\n",
    "\n",
    "What do you notice?"
   ]
  },
  {
   "cell_type": "code",
   "execution_count": null,
   "metadata": {},
   "outputs": [],
   "source": [
    "#your code here"
   ]
  }
 ],
 "metadata": {
  "kernelspec": {
   "display_name": "Python 3",
   "language": "python",
   "name": "python3"
  },
  "language_info": {
   "codemirror_mode": {
    "name": "ipython",
    "version": 3
   },
   "file_extension": ".py",
   "mimetype": "text/x-python",
   "name": "python",
   "nbconvert_exporter": "python",
   "pygments_lexer": "ipython3",
   "version": "3.8.5"
  }
 },
 "nbformat": 4,
 "nbformat_minor": 4
}
